{
  "nbformat": 4,
  "nbformat_minor": 0,
  "metadata": {
    "colab": {
      "name": "HeapSort.ipynb",
      "provenance": [],
      "collapsed_sections": [],
      "authorship_tag": "ABX9TyOLFZv3radSRZ5+qivqDy3O",
      "include_colab_link": true
    },
    "kernelspec": {
      "name": "python3",
      "display_name": "Python 3"
    },
    "language_info": {
      "name": "python"
    }
  },
  "cells": [
    {
      "cell_type": "markdown",
      "metadata": {
        "id": "view-in-github",
        "colab_type": "text"
      },
      "source": [
        "<a href=\"https://colab.research.google.com/github/yashirmehmood/HeapLeetCode/blob/main/HeapSort.ipynb\" target=\"_parent\"><img src=\"https://colab.research.google.com/assets/colab-badge.svg\" alt=\"Open In Colab\"/></a>"
      ]
    },
    {
      "cell_type": "code",
      "metadata": {
        "id": "1nHzbKADFFXy",
        "colab": {
          "base_uri": "https://localhost:8080/"
        },
        "outputId": "6f57c8ea-5660-4466-ce6f-590cff33fbc8"
      },
      "source": [
        "class Heap(object):\n",
        "\tHEAP_SIZE = 10\n",
        "\tdef __init__(self):\n",
        "\t\tself.heap = [0]*Heap.HEAP_SIZE;\n",
        "\t\tself.currentPosition = -1;\n",
        "\tdef insert(self, item):\n",
        "\t\tif self.isFull():\n",
        "\t\t\tprint(\"Heap is full..\");\n",
        "\t\t\treturn \n",
        "\t\tself.currentPosition = self.currentPosition + 1\n",
        "\t\tself.heap[self.currentPosition] = item\n",
        "\t\tself.fixUp(self.currentPosition)\n",
        "\tdef fixUp(self, index):\n",
        "\t\tparentIndex = int((index-1)/2)\n",
        "\t\twhile parentIndex >= 0 and self.heap[parentIndex] < self.heap[index]:\n",
        "\t\t\ttemp = self.heap[index]\n",
        "\t\t\tself.heap[index] = self.heap[parentIndex]\n",
        "\t\t\tself.heap[parentIndex] = temp\n",
        "\t\t\tindex=parentIndex\n",
        "\t\t\tparentIndex = (int)((index-1)/2)\n",
        "\tdef heapsort(self):\n",
        "\t\tfor i in range(0,self.currentPosition+1):\n",
        "\t\t\ttemp = self.heap[0]\n",
        "\t\t\tprint(\"%d \" % temp)\n",
        "\t\t\tself.heap[0] = self.heap[self.currentPosition-i]\n",
        "\t\t\tself.heap[self.currentPosition-i] = temp\n",
        "\t\t\tself.fixDown(0,self.currentPosition-i-1)\n",
        "\tdef fixDown(self, index, upto):\n",
        "\t\twhile index <= upto:\n",
        "\t\t\tleftChild = 2*index+1\n",
        "\t\t\trightChild = 2*index+2\n",
        "\t\t\tif leftChild < upto:\n",
        "\t\t\t\tchildToSwap = None\n",
        "\t\t\t\tif rightChild > upto:\n",
        "\t\t\t\t\tchildToSwap = leftChild\n",
        "\t\t\t\telse:\n",
        "\t\t\t\t\tif self.heap[leftChild] > self.heap[rightChild]:\n",
        "\t\t\t\t\t\tchildToSwap = leftChild\n",
        "\t\t\t\t\telse:\n",
        "\t\t\t\t\t\tchildToSwap = rightChild\n",
        "\t\t\t\tif self.heap[index] < self.heap[childToSwap]:\n",
        "\t\t\t\t\ttemp = self.heap[index]\n",
        "\t\t\t\t\tself.heap[index] = self.heap[childToSwap]\n",
        "\t\t\t\t\tself.heap[childToSwap] = temp\n",
        "\t\t\t\telse:\n",
        "\t\t\t\t\tbreak\n",
        "\t\t\t\tindex = childToSwap\n",
        "\t\t\telse:\n",
        "\t\t\t\tbreak;\t\t\t\t\t\t\t\n",
        "\tdef isFull(self):\n",
        "\t\tif self.currentPosition == Heap.HEAP_SIZE:\n",
        "\t\t\treturn True\n",
        "\t\telse:\n",
        "\t\t\treturn False\n",
        "if __name__ == \"__main__\":\n",
        "\theap = Heap()\n",
        "\theap.insert(10)\n",
        "\theap.insert(-20)\n",
        "\theap.insert(0)\n",
        "\theap.insert(2)\n",
        "\theap.insert(4)\n",
        "\theap.insert(5)\n",
        "\theap.insert(6)\n",
        "\theap.insert(7)\n",
        "\theap.insert(20)\n",
        "\theap.insert(15)\n",
        "\theap.heapsort()"
      ],
      "execution_count": 25,
      "outputs": [
        {
          "output_type": "stream",
          "text": [
            "20 \n",
            "15 \n",
            "10 \n",
            "7 \n",
            "6 \n",
            "5 \n",
            "4 \n",
            "2 \n",
            "0 \n",
            "-20 \n"
          ],
          "name": "stdout"
        }
      ]
    }
  ]
}